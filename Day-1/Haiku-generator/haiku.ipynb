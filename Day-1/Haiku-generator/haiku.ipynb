{
  "nbformat": 4,
  "nbformat_minor": 0,
  "metadata": {
    "colab": {
      "name": "haiku.ipynb",
      "provenance": [],
      "collapsed_sections": [],
      "authorship_tag": "ABX9TyMVBNGZAysa2bjYv1LltY5L",
      "include_colab_link": true
    },
    "kernelspec": {
      "name": "python3",
      "display_name": "Python 3"
    },
    "language_info": {
      "name": "python"
    }
  },
  "cells": [
    {
      "cell_type": "markdown",
      "metadata": {
        "id": "view-in-github",
        "colab_type": "text"
      },
      "source": [
        "<a href=\"https://colab.research.google.com/github/nikhil9302/MLH-LHD-BUILD/blob/main/Day-1/Haiku-generator/haiku.ipynb\" target=\"_parent\"><img src=\"https://colab.research.google.com/assets/colab-badge.svg\" alt=\"Open In Colab\"/></a>"
      ]
    },
    {
      "cell_type": "code",
      "source": [
        "!pip3 install -U spacy\n",
        "!pip3 install syllapy"
      ],
      "metadata": {
        "id": "Gd9t-_WGDaQz"
      },
      "execution_count": null,
      "outputs": []
    },
    {
      "cell_type": "code",
      "source": [
        "!python3 -m spacy download en_core_web_sm"
      ],
      "metadata": {
        "id": "Obok87E7Da1X"
      },
      "execution_count": null,
      "outputs": []
    },
    {
      "cell_type": "code",
      "execution_count": null,
      "metadata": {
        "id": "0OCE2_pcDMwy"
      },
      "outputs": [],
      "source": [
        "import spacy\n",
        "from spacy.matcher import Matcher\n",
        "import syllapy\n",
        "import random\n",
        "\n",
        "nlp = spacy.load(\"en_core_web_sm\")\n",
        "matcher2 = Matcher(nlp.vocab)\n",
        "matcher3 = Matcher(nlp.vocab)\n",
        "matcher4 = Matcher(nlp.vocab)\n",
        "\n",
        "pattern = [{'POS':  {\"IN\": [\"NOUN\", \"ADP\", \"ADJ\", \"ADV\"]} },{'POS':  {\"IN\": [\"NOUN\", \"VERB\"]} }]\n",
        "matcher2.add(\"TwoWords\", [pattern])\n",
        "pattern = [{'POS':  {\"IN\": [\"NOUN\", \"ADP\", \"ADJ\", \"ADV\"]} },{'IS_ASCII': True, 'IS_PUNCT': False, 'IS_SPACE': False},{'POS':  {\"IN\": [\"NOUN\", \"VERB\", \"ADJ\", \"ADV\"]} }]\n",
        "matcher3.add(\"ThreeWords\", [pattern])\n",
        "pattern = [{'POS':  {\"IN\": [\"NOUN\", \"ADP\", \"ADJ\", \"ADV\"]} },{'IS_ASCII': True, 'IS_PUNCT': False, 'IS_SPACE': False},{'IS_ASCII': True, 'IS_PUNCT': False, 'IS_SPACE': False},{'POS':  {\"IN\": [\"NOUN\", \"VERB\", \"ADJ\", \"ADV\"]} }]\n",
        "matcher4.add(\"FourWords\", [pattern])\n",
        "\n",
        "doc = nlp(open(\"./text.txt\").read())\n",
        "\n",
        "matches2 = matcher2(doc)\n",
        "matches3 = matcher3(doc)\n",
        "matches4 = matcher4(doc)\n",
        "\n",
        "g_5 = []\n",
        "g_7 = []\n",
        "\n",
        "for match_id, start, end in matches2 + matches3 + matches4:\n",
        "    string_id = nlp.vocab.strings[match_id]  # Get string representation\n",
        "    span = doc[start:end]  # The matched span\n",
        "\n",
        "    syl_count = 0\n",
        "    for token in span:\n",
        "        syl_count += syllapy.count(token.text)\n",
        "    if syl_count == 5:\n",
        "        if span.text not in g_5:\n",
        "            g_5.append(span.text)\n",
        "    if syl_count == 7:\n",
        "        if span.text not in g_7:\n",
        "            g_7.append(span.text)\n",
        "\n",
        "print(\"Enter a text for a new haiku. ^C to quit\\n\")\n",
        "while (True):\n",
        "    print(\"%s\\n%s\\n%s\" %(random.choice(g_5),random.choice(g_7),random.choice(g_5)))\n",
        "    input(\"\\n\")\n"
      ]
    },
    {
      "cell_type": "code",
      "source": [
        ""
      ],
      "metadata": {
        "id": "Dt4lRwYJElKx"
      },
      "execution_count": null,
      "outputs": []
    }
  ]
}